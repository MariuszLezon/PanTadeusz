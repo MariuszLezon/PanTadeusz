{
 "cells": [
  {
   "cell_type": "markdown",
   "metadata": {},
   "source": [
    "Ceneo Scraper "
   ]
  },
  {
   "cell_type": "markdown",
   "metadata": {},
   "source": [
    "## Struktura opinii w serwisie Ceneo.pl\n",
    "\n",
    "|skadowa|zmienna|sekeltor|\n",
    "|------|-------|--------|\n",
    "|identyfikator opinii|opinion_id|[\"data-entry-id\"]|\n",
    "|autora|author|span.user-post__author-name|\n",
    "|rekomendację|recomendation|span.user-post__author-recomendation > em|\n",
    "|liczbę gwiazdek|rating|span.user-post__score-count|\n",
    "|treść opinii|content|div.user-post__text|\n",
    "|listę zalet|pros|div.review-feature__title--positives ~ div.review-feature__item|\n",
    "|listę wad|cons|div.review-feature__title--negatives ~ div.review-feature__item|\n",
    "|data wystawienia opinii|opinion_date|span.user-post__published > time:nth-child(1)[\"datetime\"]|\n",
    "|data zakupu produktu|purchase_date|opinion_date|span.user-post__published > time:nth-child(2)[\"datetime\"]|\n",
    "|ile osób uznało opinię za przydatną|likes|button.vote-yes > span|\n",
    "|ile osób uznało opinię za nieprzydatną|dislikes|button.vote-no > span|"
   ]
  },
  {
   "cell_type": "markdown",
   "metadata": {},
   "source": [
    "## Import bibliotek "
   ]
  },
  {
   "cell_type": "code",
   "execution_count": 34,
   "metadata": {},
   "outputs": [],
   "source": [
    "import os\n",
    "import json\n",
    "import requests \n",
    "from bs4 import BeautifulSoup\n",
    "from flask import Flask, request"
   ]
  },
  {
   "cell_type": "markdown",
   "metadata": {},
   "source": [
    "Funkcja do ekstrakcji zawartości ze strony HTML"
   ]
  },
  {
   "cell_type": "code",
   "execution_count": 35,
   "metadata": {},
   "outputs": [],
   "source": [
    "def extract(ancestor,selector, attribute = None, return_list = False):\n",
    "    if return_list:\n",
    "        if attribute:\n",
    "            return [tag[attribute].strip() for tag in ancestor.select(selector)]\n",
    "        return [tag.get_text().strip() for tag in ancestor.select(selector)]\n",
    "    if selector:\n",
    "        if attribute:\n",
    "            try:\n",
    "                return ancestor.select_one(selector)[attribute].strip()\n",
    "            except TypeError:\n",
    "                return None\n",
    "        try:\n",
    "            return ancestor.select_one(selector).get_text().strip()\n",
    "        except AttributeError:\n",
    "            return None\n",
    "    if attribute:\n",
    "        return ancestor[attribute].strip()\n",
    "    return ancestor.get_text().strip()"
   ]
  },
  {
   "cell_type": "markdown",
   "metadata": {},
   "source": [
    "## strona produktu\n"
   ]
  },
  {
   "cell_type": "code",
   "execution_count": 36,
   "metadata": {},
   "outputs": [],
   "source": [
    "product_id = input(\"Podaj kod produktu z ceneo.pl: \")\n",
    "url = f\"https://www.ceneo.pl/{product_id}#tab=reviews\"\n"
   ]
  },
  {
   "cell_type": "markdown",
   "metadata": {},
   "source": [
    "## wysyłanie zadania dostepu do zasobu"
   ]
  },
  {
   "cell_type": "code",
   "execution_count": 37,
   "metadata": {},
   "outputs": [
    {
     "data": {
      "text/plain": [
       "200"
      ]
     },
     "execution_count": 37,
     "metadata": {},
     "output_type": "execute_result"
    }
   ],
   "source": [
    "response = requests.get(url)\n",
    "response.status_code\n"
   ]
  },
  {
   "cell_type": "code",
   "execution_count": 38,
   "metadata": {},
   "outputs": [],
   "source": [
    "selectors = {\n",
    "'author': (\"span.user-post__author-name\",),\n",
    "'recomendation' : (\"span.user-post__author-recomendation > em\",),\n",
    "'rating': (\"span.user-post__score-count\",),\n",
    "'content': (\"div.user-post__text\",),\n",
    "'pros': (\"div.review-feature__title--positives ~ div.review-feature__item\", None, True),\n",
    "'cons': (\"div.review-feature__title--negatives ~ div.review-feature__item\", None, True),\n",
    "'opinion_date': (\"span.user-post__published > time:nth-child(1)\",\"datetime\"),\n",
    "'purchase_date': (\"opinion_date|span.user-post__published > time:nth-child(2)\",\"datetime\"),\n",
    "'likes': (\"button.vote-yes > span\",),\n",
    "'dislikes': (\"button.vote-no > span\",),\n",
    "'opinion_id': (None,\"data-entry-id\"),\n",
    "}\n",
    "\n"
   ]
  },
  {
   "cell_type": "code",
   "execution_count": 39,
   "metadata": {},
   "outputs": [],
   "source": [
    "page = BeautifulSoup(response.text, \"html.parser\")\n",
    "opinions = page.select(\"div.js_product-review\")"
   ]
  },
  {
   "cell_type": "code",
   "execution_count": 40,
   "metadata": {},
   "outputs": [
    {
     "name": "stdout",
     "output_type": "stream",
     "text": [
      "{'author': 'm...z', 'recomendation': 'Polecam', 'rating': '5/5', 'content': 'Co tu oceniań, produkt absolutnie be zarzutu!', 'pros': ['dokładny touchpad', 'jakość', 'wydajność', 'wygląd', 'wygodna klawiatura'], 'cons': ['mało portów', 'może mały dysk'], 'opinion_date': '2023-01-26 20:12:02', 'purchase_date': None, 'likes': '1', 'dislikes': '0', 'opinion_id': '17067606'}\n",
      "{'author': 'a...i', 'recomendation': 'Polecam', 'rating': '5/5', 'content': 'Wiedziałem, że będzie dobrze ale jest jeszcze lepiej.', 'pros': [], 'cons': [], 'opinion_date': '2024-05-15 23:17:42', 'purchase_date': None, 'likes': '0', 'dislikes': '1', 'opinion_id': '18651225'}\n",
      "{'author': 'b...a', 'recomendation': 'Polecam', 'rating': '5/5', 'content': 'idealny do pracy w biurze.', 'pros': [], 'cons': [], 'opinion_date': '2024-04-01 12:05:03', 'purchase_date': None, 'likes': '0', 'dislikes': '0', 'opinion_id': '18539334'}\n",
      "{'author': 'l...a', 'recomendation': 'Polecam', 'rating': '5/5', 'content': 'Polecam', 'pros': [], 'cons': [], 'opinion_date': '2023-12-20 09:36:48', 'purchase_date': None, 'likes': '1', 'dislikes': '0', 'opinion_id': '18228134'}\n",
      "{'author': 'm...a', 'recomendation': 'Polecam', 'rating': '5/5', 'content': 'Boski;-)', 'pros': ['jakość', 'wydajność', 'wygląd'], 'cons': [], 'opinion_date': '2022-12-16 14:15:39', 'purchase_date': None, 'likes': '0', 'dislikes': '0', 'opinion_id': '16892070'}\n",
      "{'author': 'k...i', 'recomendation': 'Polecam', 'rating': '5/5', 'content': 'Polecam', 'pros': [], 'cons': [], 'opinion_date': '2023-03-30 21:57:51', 'purchase_date': None, 'likes': '0', 'dislikes': '0', 'opinion_id': '17343495'}\n",
      "{'author': 'Tomasz', 'recomendation': 'Polecam', 'rating': '5/5', 'content': 'Apple to Apple', 'pros': ['jakość', 'wydajność', 'wygląd', 'wygodna klawiatura'], 'cons': [], 'opinion_date': '2023-01-27 20:41:38', 'purchase_date': None, 'likes': '0', 'dislikes': '1', 'opinion_id': '17072961'}\n",
      "{'author': 'a...k', 'recomendation': 'Polecam', 'rating': '5/5', 'content': 'idealny :)', 'pros': ['dokładny touchpad', 'jakość', 'wydajność', 'wygląd', 'wygodna klawiatura'], 'cons': ['mało portów', 'może mały dysk', 'przegrzewa sie'], 'opinion_date': '2023-01-18 20:16:01', 'purchase_date': None, 'likes': '1', 'dislikes': '2', 'opinion_id': '17033743'}\n",
      "{'author': 'j...9', 'recomendation': 'Polecam', 'rating': '5/5', 'content': 'SUPER!!!!!', 'pros': ['jakość', 'mało portów', 'wydajność', 'wygląd', 'wygodna klawiatura'], 'cons': [], 'opinion_date': '2023-06-14 13:57:08', 'purchase_date': None, 'likes': '0', 'dislikes': '1', 'opinion_id': '17610585'}\n",
      "{'author': 'k...a', 'recomendation': 'Polecam', 'rating': '5/5', 'content': 'Wspaniały', 'pros': ['jakość', 'wydajność', 'wygląd', 'wygodna klawiatura'], 'cons': [], 'opinion_date': '2023-12-06 09:54:51', 'purchase_date': None, 'likes': '0', 'dislikes': '1', 'opinion_id': '18177821'}\n",
      "{'author': 'n...y', 'recomendation': 'Polecam', 'rating': '5/5', 'content': 'Max', 'pros': [], 'cons': [], 'opinion_date': '2022-09-07 23:03:34', 'purchase_date': None, 'likes': '1', 'dislikes': '2', 'opinion_id': '16498960'}\n"
     ]
    }
   ],
   "source": [
    "all_opinions = []\n",
    "while(url):\n",
    "    response = requests.get(url)\n",
    "    page = BeautifulSoup(response.text, \"html.parser\")\n",
    "    opinions = page.select('div.js_product-review')\n",
    "    for opinion in opinions:\n",
    "        single_opinion = {\n",
    "            key: extract(opinion, *value)\n",
    "                for key, value in selectors.items()\n",
    "        }\n",
    "        all_opinions.append(single_opinion)\n",
    "\n",
    "        print(single_opinion)\n",
    "    try:\n",
    "        url = \"https://www.ceneo.pl\" + extract(page, \"a.pagination__next\", \"href\")\n",
    "    except TypeError:\n",
    "        break"
   ]
  },
  {
   "cell_type": "code",
   "execution_count": 41,
   "metadata": {},
   "outputs": [],
   "source": [
    "if not os.path.exists(\"opinions\"):\n",
    "    os.mkdir(\"opinions\")\n",
    "with open(f\"opinions/{product_id}.json\",\"w\",encoding=\"UTF-8\") as jf:\n",
    "    json.dump(all_opinions,jf,indent=4,ensure_ascii=False)"
   ]
  }
 ],
 "metadata": {
  "kernelspec": {
   "display_name": ".venv",
   "language": "python",
   "name": "python3"
  },
  "language_info": {
   "codemirror_mode": {
    "name": "ipython",
    "version": 3
   },
   "file_extension": ".py",
   "mimetype": "text/x-python",
   "name": "python",
   "nbconvert_exporter": "python",
   "pygments_lexer": "ipython3",
   "version": "3.11.9"
  }
 },
 "nbformat": 4,
 "nbformat_minor": 2
}
